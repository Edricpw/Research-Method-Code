{
  "nbformat": 4,
  "nbformat_minor": 0,
  "metadata": {
    "colab": {
      "provenance": [],
      "collapsed_sections": []
    },
    "kernelspec": {
      "name": "python3",
      "display_name": "Python 3"
    },
    "language_info": {
      "name": "python"
    }
  },
  "cells": [
    {
      "cell_type": "code",
      "execution_count": null,
      "metadata": {
        "id": "CnCLUVNyO2yI"
      },
      "outputs": [],
      "source": [
        "import numpy as np # linear algebra\n",
        "import pandas as pd # data processing, CSV file I/O (e.g. pd.read_csv)\n",
        "\n",
        "# Input data files are available in the read-only \"../input/\" directory\n",
        "# For example, running this (by clicking run or pressing Shift+Enter) will list all files under the input directory"
      ]
    },
    {
      "cell_type": "code",
      "source": [
        "import matplotlib.pyplot as plt\n",
        "\n",
        "from sklearn.model_selection import train_test_split\n",
        "from sklearn.metrics import confusion_matrix\n",
        "from mlxtend.plotting import plot_confusion_matrix\n",
        "from sklearn.metrics import classification_report\n",
        "from sklearn import preprocessing\n",
        "\n",
        "from gensim.models import Word2Vec\n",
        "\n",
        "import tensorflow as tf\n",
        "from tensorflow.keras.models import Sequential\n",
        "from tensorflow.keras.layers import LSTM, MaxPool1D, Dropout, Dense, GlobalMaxPooling1D, Embedding, Activation\n",
        "from tensorflow.keras.utils import to_categorical\n",
        "from keras.preprocessing.text import Tokenizer\n",
        "from keras.preprocessing.sequence import pad_sequences\n",
        "from keras.callbacks import ModelCheckpoint, EarlyStopping\n",
        "from sklearn.metrics import precision_score, recall_score, f1_score,accuracy_score\n",
        "from sklearn.model_selection import GridSearchCV"
      ],
      "metadata": {
        "id": "OCF5j-a-P0FH"
      },
      "execution_count": null,
      "outputs": []
    },
    {
      "cell_type": "code",
      "source": [
        "from google.colab import files\n",
        "upload=files.upload()"
      ],
      "metadata": {
        "colab": {
          "resources": {
            "http://localhost:8080/nbextensions/google.colab/files.js": {
              "data": "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",
              "ok": true,
              "headers": [
                [
                  "content-type",
                  "application/javascript"
                ]
              ],
              "status": 200,
              "status_text": ""
            }
          },
          "base_uri": "https://localhost:8080/",
          "height": 91
        },
        "id": "lShpLwnxP3Zh",
        "outputId": "0b0a4809-15b5-4636-d80d-929f60403703"
      },
      "execution_count": null,
      "outputs": [
        {
          "output_type": "display_data",
          "data": {
            "text/plain": [
              "<IPython.core.display.HTML object>"
            ],
            "text/html": [
              "\n",
              "     <input type=\"file\" id=\"files-f97d3c0d-1cb1-418f-8292-a27cce3a64be\" name=\"files[]\" multiple disabled\n",
              "        style=\"border:none\" />\n",
              "     <output id=\"result-f97d3c0d-1cb1-418f-8292-a27cce3a64be\">\n",
              "      Upload widget is only available when the cell has been executed in the\n",
              "      current browser session. Please rerun this cell to enable.\n",
              "      </output>\n",
              "      <script src=\"/nbextensions/google.colab/files.js\"></script> "
            ]
          },
          "metadata": {}
        },
        {
          "output_type": "stream",
          "name": "stdout",
          "text": [
            "Saving Toxic.xlsx to Toxic.xlsx\n"
          ]
        }
      ]
    },
    {
      "cell_type": "code",
      "source": [
        "toxic=pd.read_excel('Toxic.xlsx')\n",
        "toxic"
      ],
      "metadata": {
        "colab": {
          "base_uri": "https://localhost:8080/",
          "height": 424
        },
        "id": "xUNLk39LQWZS",
        "outputId": "b23a1b44-b3f5-41e9-b515-fb10f29d0845"
      },
      "execution_count": null,
      "outputs": [
        {
          "output_type": "execute_result",
          "data": {
            "text/plain": [
              "                                                   Text  Label\n",
              "0     Does N.e.bodyelse Hear her Crazy ass Screamin ...      0\n",
              "1     There are so many things that are incorrect wi...      0\n",
              "2     3:26 hahah my boyfriend showed this song to me...      1\n",
              "3     dick beyonce fuck y a ass hole you are truely ...      1\n",
              "4     DongHaeTaemin and Kai ;A; luhansehun and bacon...      0\n",
              "...                                                 ...    ...\n",
              "5020  It should be further noted that my penis looks...      1\n",
              "5021  :Actually it was for changing the message I le...      1\n",
              "5022  \" \\n\\n What the fuck \"\"urdu\"\" pathan is doing ...      1\n",
              "5023  :And this and this and this is blatant unsourc...      1\n",
              "5024                 ::It shows that Dawkins is a liar.      1\n",
              "\n",
              "[5025 rows x 2 columns]"
            ],
            "text/html": [
              "\n",
              "  <div id=\"df-ba2ec473-a81b-47a3-9e0e-a0a510353655\">\n",
              "    <div class=\"colab-df-container\">\n",
              "      <div>\n",
              "<style scoped>\n",
              "    .dataframe tbody tr th:only-of-type {\n",
              "        vertical-align: middle;\n",
              "    }\n",
              "\n",
              "    .dataframe tbody tr th {\n",
              "        vertical-align: top;\n",
              "    }\n",
              "\n",
              "    .dataframe thead th {\n",
              "        text-align: right;\n",
              "    }\n",
              "</style>\n",
              "<table border=\"1\" class=\"dataframe\">\n",
              "  <thead>\n",
              "    <tr style=\"text-align: right;\">\n",
              "      <th></th>\n",
              "      <th>Text</th>\n",
              "      <th>Label</th>\n",
              "    </tr>\n",
              "  </thead>\n",
              "  <tbody>\n",
              "    <tr>\n",
              "      <th>0</th>\n",
              "      <td>Does N.e.bodyelse Hear her Crazy ass Screamin ...</td>\n",
              "      <td>0</td>\n",
              "    </tr>\n",
              "    <tr>\n",
              "      <th>1</th>\n",
              "      <td>There are so many things that are incorrect wi...</td>\n",
              "      <td>0</td>\n",
              "    </tr>\n",
              "    <tr>\n",
              "      <th>2</th>\n",
              "      <td>3:26 hahah my boyfriend showed this song to me...</td>\n",
              "      <td>1</td>\n",
              "    </tr>\n",
              "    <tr>\n",
              "      <th>3</th>\n",
              "      <td>dick beyonce fuck y a ass hole you are truely ...</td>\n",
              "      <td>1</td>\n",
              "    </tr>\n",
              "    <tr>\n",
              "      <th>4</th>\n",
              "      <td>DongHaeTaemin and Kai ;A; luhansehun and bacon...</td>\n",
              "      <td>0</td>\n",
              "    </tr>\n",
              "    <tr>\n",
              "      <th>...</th>\n",
              "      <td>...</td>\n",
              "      <td>...</td>\n",
              "    </tr>\n",
              "    <tr>\n",
              "      <th>5020</th>\n",
              "      <td>It should be further noted that my penis looks...</td>\n",
              "      <td>1</td>\n",
              "    </tr>\n",
              "    <tr>\n",
              "      <th>5021</th>\n",
              "      <td>:Actually it was for changing the message I le...</td>\n",
              "      <td>1</td>\n",
              "    </tr>\n",
              "    <tr>\n",
              "      <th>5022</th>\n",
              "      <td>\" \\n\\n What the fuck \"\"urdu\"\" pathan is doing ...</td>\n",
              "      <td>1</td>\n",
              "    </tr>\n",
              "    <tr>\n",
              "      <th>5023</th>\n",
              "      <td>:And this and this and this is blatant unsourc...</td>\n",
              "      <td>1</td>\n",
              "    </tr>\n",
              "    <tr>\n",
              "      <th>5024</th>\n",
              "      <td>::It shows that Dawkins is a liar.</td>\n",
              "      <td>1</td>\n",
              "    </tr>\n",
              "  </tbody>\n",
              "</table>\n",
              "<p>5025 rows × 2 columns</p>\n",
              "</div>\n",
              "      <button class=\"colab-df-convert\" onclick=\"convertToInteractive('df-ba2ec473-a81b-47a3-9e0e-a0a510353655')\"\n",
              "              title=\"Convert this dataframe to an interactive table.\"\n",
              "              style=\"display:none;\">\n",
              "        \n",
              "  <svg xmlns=\"http://www.w3.org/2000/svg\" height=\"24px\"viewBox=\"0 0 24 24\"\n",
              "       width=\"24px\">\n",
              "    <path d=\"M0 0h24v24H0V0z\" fill=\"none\"/>\n",
              "    <path d=\"M18.56 5.44l.94 2.06.94-2.06 2.06-.94-2.06-.94-.94-2.06-.94 2.06-2.06.94zm-11 1L8.5 8.5l.94-2.06 2.06-.94-2.06-.94L8.5 2.5l-.94 2.06-2.06.94zm10 10l.94 2.06.94-2.06 2.06-.94-2.06-.94-.94-2.06-.94 2.06-2.06.94z\"/><path d=\"M17.41 7.96l-1.37-1.37c-.4-.4-.92-.59-1.43-.59-.52 0-1.04.2-1.43.59L10.3 9.45l-7.72 7.72c-.78.78-.78 2.05 0 2.83L4 21.41c.39.39.9.59 1.41.59.51 0 1.02-.2 1.41-.59l7.78-7.78 2.81-2.81c.8-.78.8-2.07 0-2.86zM5.41 20L4 18.59l7.72-7.72 1.47 1.35L5.41 20z\"/>\n",
              "  </svg>\n",
              "      </button>\n",
              "      \n",
              "  <style>\n",
              "    .colab-df-container {\n",
              "      display:flex;\n",
              "      flex-wrap:wrap;\n",
              "      gap: 12px;\n",
              "    }\n",
              "\n",
              "    .colab-df-convert {\n",
              "      background-color: #E8F0FE;\n",
              "      border: none;\n",
              "      border-radius: 50%;\n",
              "      cursor: pointer;\n",
              "      display: none;\n",
              "      fill: #1967D2;\n",
              "      height: 32px;\n",
              "      padding: 0 0 0 0;\n",
              "      width: 32px;\n",
              "    }\n",
              "\n",
              "    .colab-df-convert:hover {\n",
              "      background-color: #E2EBFA;\n",
              "      box-shadow: 0px 1px 2px rgba(60, 64, 67, 0.3), 0px 1px 3px 1px rgba(60, 64, 67, 0.15);\n",
              "      fill: #174EA6;\n",
              "    }\n",
              "\n",
              "    [theme=dark] .colab-df-convert {\n",
              "      background-color: #3B4455;\n",
              "      fill: #D2E3FC;\n",
              "    }\n",
              "\n",
              "    [theme=dark] .colab-df-convert:hover {\n",
              "      background-color: #434B5C;\n",
              "      box-shadow: 0px 1px 3px 1px rgba(0, 0, 0, 0.15);\n",
              "      filter: drop-shadow(0px 1px 2px rgba(0, 0, 0, 0.3));\n",
              "      fill: #FFFFFF;\n",
              "    }\n",
              "  </style>\n",
              "\n",
              "      <script>\n",
              "        const buttonEl =\n",
              "          document.querySelector('#df-ba2ec473-a81b-47a3-9e0e-a0a510353655 button.colab-df-convert');\n",
              "        buttonEl.style.display =\n",
              "          google.colab.kernel.accessAllowed ? 'block' : 'none';\n",
              "\n",
              "        async function convertToInteractive(key) {\n",
              "          const element = document.querySelector('#df-ba2ec473-a81b-47a3-9e0e-a0a510353655');\n",
              "          const dataTable =\n",
              "            await google.colab.kernel.invokeFunction('convertToInteractive',\n",
              "                                                     [key], {});\n",
              "          if (!dataTable) return;\n",
              "\n",
              "          const docLinkHtml = 'Like what you see? Visit the ' +\n",
              "            '<a target=\"_blank\" href=https://colab.research.google.com/notebooks/data_table.ipynb>data table notebook</a>'\n",
              "            + ' to learn more about interactive tables.';\n",
              "          element.innerHTML = '';\n",
              "          dataTable['output_type'] = 'display_data';\n",
              "          await google.colab.output.renderOutput(dataTable, element);\n",
              "          const docLink = document.createElement('div');\n",
              "          docLink.innerHTML = docLinkHtml;\n",
              "          element.appendChild(docLink);\n",
              "        }\n",
              "      </script>\n",
              "    </div>\n",
              "  </div>\n",
              "  "
            ]
          },
          "metadata": {},
          "execution_count": 4
        }
      ]
    },
    {
      "cell_type": "code",
      "source": [
        "toxic['Label'] = toxic['Label'].astype(int)\n",
        "toxic['Text'] = toxic['Text'].astype(str)"
      ],
      "metadata": {
        "id": "5QkjD12yQZpb"
      },
      "execution_count": null,
      "outputs": []
    },
    {
      "cell_type": "code",
      "source": [
        "#case Folding\n",
        "import re\n",
        "def casefolding(title):\n",
        "  title = str(title.lower())\n",
        "  title = title.strip(\" \")\n",
        "  title = re.sub(r'[?|$|.|!_:\"@&*^#)(-+,;}{%<>]','',title)\n",
        "  return title\n",
        "toxic['Text'] = toxic['Text'].apply(casefolding)\n",
        "toxic"
      ],
      "metadata": {
        "colab": {
          "base_uri": "https://localhost:8080/",
          "height": 424
        },
        "id": "NvCTwm6OQhLF",
        "outputId": "64ea11ad-085a-45e7-c470-c1ab41a7c8f2"
      },
      "execution_count": null,
      "outputs": [
        {
          "output_type": "execute_result",
          "data": {
            "text/plain": [
              "                                                   Text  Label\n",
              "0     does nebodyelse hear her crazy ass screamin ho...      0\n",
              "1     there are so many things that are incorrect wi...      0\n",
              "2     326 hahah my boyfriend showed this song to me ...      1\n",
              "3     dick beyonce fuck y a ass hole you are truely ...      1\n",
              "4     donghaetaemin and kai a luhansehun and bacon x...      0\n",
              "...                                                 ...    ...\n",
              "5020  it should be further noted that my penis looks...      1\n",
              "5021  actually it was for changing the message i lef...      1\n",
              "5022   \\n\\n what the fuck urdu pathan is doing in th...      1\n",
              "5023  and this and this and this is blatant unsource...      1\n",
              "5024                    it shows that dawkins is a liar      1\n",
              "\n",
              "[5025 rows x 2 columns]"
            ],
            "text/html": [
              "\n",
              "  <div id=\"df-b63d7db4-5e6a-4b96-a96b-752235e5942a\">\n",
              "    <div class=\"colab-df-container\">\n",
              "      <div>\n",
              "<style scoped>\n",
              "    .dataframe tbody tr th:only-of-type {\n",
              "        vertical-align: middle;\n",
              "    }\n",
              "\n",
              "    .dataframe tbody tr th {\n",
              "        vertical-align: top;\n",
              "    }\n",
              "\n",
              "    .dataframe thead th {\n",
              "        text-align: right;\n",
              "    }\n",
              "</style>\n",
              "<table border=\"1\" class=\"dataframe\">\n",
              "  <thead>\n",
              "    <tr style=\"text-align: right;\">\n",
              "      <th></th>\n",
              "      <th>Text</th>\n",
              "      <th>Label</th>\n",
              "    </tr>\n",
              "  </thead>\n",
              "  <tbody>\n",
              "    <tr>\n",
              "      <th>0</th>\n",
              "      <td>does nebodyelse hear her crazy ass screamin ho...</td>\n",
              "      <td>0</td>\n",
              "    </tr>\n",
              "    <tr>\n",
              "      <th>1</th>\n",
              "      <td>there are so many things that are incorrect wi...</td>\n",
              "      <td>0</td>\n",
              "    </tr>\n",
              "    <tr>\n",
              "      <th>2</th>\n",
              "      <td>326 hahah my boyfriend showed this song to me ...</td>\n",
              "      <td>1</td>\n",
              "    </tr>\n",
              "    <tr>\n",
              "      <th>3</th>\n",
              "      <td>dick beyonce fuck y a ass hole you are truely ...</td>\n",
              "      <td>1</td>\n",
              "    </tr>\n",
              "    <tr>\n",
              "      <th>4</th>\n",
              "      <td>donghaetaemin and kai a luhansehun and bacon x...</td>\n",
              "      <td>0</td>\n",
              "    </tr>\n",
              "    <tr>\n",
              "      <th>...</th>\n",
              "      <td>...</td>\n",
              "      <td>...</td>\n",
              "    </tr>\n",
              "    <tr>\n",
              "      <th>5020</th>\n",
              "      <td>it should be further noted that my penis looks...</td>\n",
              "      <td>1</td>\n",
              "    </tr>\n",
              "    <tr>\n",
              "      <th>5021</th>\n",
              "      <td>actually it was for changing the message i lef...</td>\n",
              "      <td>1</td>\n",
              "    </tr>\n",
              "    <tr>\n",
              "      <th>5022</th>\n",
              "      <td>\\n\\n what the fuck urdu pathan is doing in th...</td>\n",
              "      <td>1</td>\n",
              "    </tr>\n",
              "    <tr>\n",
              "      <th>5023</th>\n",
              "      <td>and this and this and this is blatant unsource...</td>\n",
              "      <td>1</td>\n",
              "    </tr>\n",
              "    <tr>\n",
              "      <th>5024</th>\n",
              "      <td>it shows that dawkins is a liar</td>\n",
              "      <td>1</td>\n",
              "    </tr>\n",
              "  </tbody>\n",
              "</table>\n",
              "<p>5025 rows × 2 columns</p>\n",
              "</div>\n",
              "      <button class=\"colab-df-convert\" onclick=\"convertToInteractive('df-b63d7db4-5e6a-4b96-a96b-752235e5942a')\"\n",
              "              title=\"Convert this dataframe to an interactive table.\"\n",
              "              style=\"display:none;\">\n",
              "        \n",
              "  <svg xmlns=\"http://www.w3.org/2000/svg\" height=\"24px\"viewBox=\"0 0 24 24\"\n",
              "       width=\"24px\">\n",
              "    <path d=\"M0 0h24v24H0V0z\" fill=\"none\"/>\n",
              "    <path d=\"M18.56 5.44l.94 2.06.94-2.06 2.06-.94-2.06-.94-.94-2.06-.94 2.06-2.06.94zm-11 1L8.5 8.5l.94-2.06 2.06-.94-2.06-.94L8.5 2.5l-.94 2.06-2.06.94zm10 10l.94 2.06.94-2.06 2.06-.94-2.06-.94-.94-2.06-.94 2.06-2.06.94z\"/><path d=\"M17.41 7.96l-1.37-1.37c-.4-.4-.92-.59-1.43-.59-.52 0-1.04.2-1.43.59L10.3 9.45l-7.72 7.72c-.78.78-.78 2.05 0 2.83L4 21.41c.39.39.9.59 1.41.59.51 0 1.02-.2 1.41-.59l7.78-7.78 2.81-2.81c.8-.78.8-2.07 0-2.86zM5.41 20L4 18.59l7.72-7.72 1.47 1.35L5.41 20z\"/>\n",
              "  </svg>\n",
              "      </button>\n",
              "      \n",
              "  <style>\n",
              "    .colab-df-container {\n",
              "      display:flex;\n",
              "      flex-wrap:wrap;\n",
              "      gap: 12px;\n",
              "    }\n",
              "\n",
              "    .colab-df-convert {\n",
              "      background-color: #E8F0FE;\n",
              "      border: none;\n",
              "      border-radius: 50%;\n",
              "      cursor: pointer;\n",
              "      display: none;\n",
              "      fill: #1967D2;\n",
              "      height: 32px;\n",
              "      padding: 0 0 0 0;\n",
              "      width: 32px;\n",
              "    }\n",
              "\n",
              "    .colab-df-convert:hover {\n",
              "      background-color: #E2EBFA;\n",
              "      box-shadow: 0px 1px 2px rgba(60, 64, 67, 0.3), 0px 1px 3px 1px rgba(60, 64, 67, 0.15);\n",
              "      fill: #174EA6;\n",
              "    }\n",
              "\n",
              "    [theme=dark] .colab-df-convert {\n",
              "      background-color: #3B4455;\n",
              "      fill: #D2E3FC;\n",
              "    }\n",
              "\n",
              "    [theme=dark] .colab-df-convert:hover {\n",
              "      background-color: #434B5C;\n",
              "      box-shadow: 0px 1px 3px 1px rgba(0, 0, 0, 0.15);\n",
              "      filter: drop-shadow(0px 1px 2px rgba(0, 0, 0, 0.3));\n",
              "      fill: #FFFFFF;\n",
              "    }\n",
              "  </style>\n",
              "\n",
              "      <script>\n",
              "        const buttonEl =\n",
              "          document.querySelector('#df-b63d7db4-5e6a-4b96-a96b-752235e5942a button.colab-df-convert');\n",
              "        buttonEl.style.display =\n",
              "          google.colab.kernel.accessAllowed ? 'block' : 'none';\n",
              "\n",
              "        async function convertToInteractive(key) {\n",
              "          const element = document.querySelector('#df-b63d7db4-5e6a-4b96-a96b-752235e5942a');\n",
              "          const dataTable =\n",
              "            await google.colab.kernel.invokeFunction('convertToInteractive',\n",
              "                                                     [key], {});\n",
              "          if (!dataTable) return;\n",
              "\n",
              "          const docLinkHtml = 'Like what you see? Visit the ' +\n",
              "            '<a target=\"_blank\" href=https://colab.research.google.com/notebooks/data_table.ipynb>data table notebook</a>'\n",
              "            + ' to learn more about interactive tables.';\n",
              "          element.innerHTML = '';\n",
              "          dataTable['output_type'] = 'display_data';\n",
              "          await google.colab.output.renderOutput(dataTable, element);\n",
              "          const docLink = document.createElement('div');\n",
              "          docLink.innerHTML = docLinkHtml;\n",
              "          element.appendChild(docLink);\n",
              "        }\n",
              "      </script>\n",
              "    </div>\n",
              "  </div>\n",
              "  "
            ]
          },
          "metadata": {},
          "execution_count": 6
        }
      ]
    },
    {
      "cell_type": "code",
      "source": [
        "# tokenize the data\n",
        "\n",
        "token = Tokenizer(35789)\n",
        "token.fit_on_texts(toxic['Text'])\n",
        "text = token.texts_to_sequences(toxic['Text'])\n",
        "text = pad_sequences(text)"
      ],
      "metadata": {
        "id": "AZLiI09FQtbp"
      },
      "execution_count": null,
      "outputs": []
    },
    {
      "cell_type": "code",
      "source": [
        "h_d = []\n",
        "for i in toxic['Text']:\n",
        "    h_d.append(i.split())\n",
        "print(h_d[:2])"
      ],
      "metadata": {
        "colab": {
          "base_uri": "https://localhost:8080/"
        },
        "id": "IdVRnSycQePB",
        "outputId": "64656b79-36af-45a0-efba-9e7aa6c6e001"
      },
      "execution_count": null,
      "outputs": [
        {
          "output_type": "stream",
          "name": "stdout",
          "text": [
            "[['does', 'nebodyelse', 'hear', 'her', 'crazy', 'ass', 'screamin', 'hoe', 'everytime', 'she', \"say's\", 'stupid', 'hoe', 'lol', 'did', 'nebody', 'see', 'chris', 'browns', 'face', 'at', '204', 'wen', 'nicki', 'was', 'touchin', 'him', 'if', 'you', 'worked', 'out', 'we', \"wouldn't\", 'be', 'lookin', 'at', 'that', 'body', 'd', 'she', 'looks', 'so', 'tired', '/', 'she', 'has', 'ah', 'tatto', 'on', 'her', 'ass', 'wtf', 'is', 'this', 'oo', 'instagram', 'deze', \"nutt's\", 'in', 'yo', 'mouth', 'lmao', 'this', 'video/song', 'made', 'me', 'ah', 'lil', 'umm', 'in', 'the', 'mood', \"we're\", 'all', 'in', 'this', 'together', 'motherfucka', 'wow', 'you', 'have', 'an', 'amazing', 'voice', 'and', \"i've\", 'never', 'said', 'that', 'about', 'anyone'], ['there', 'are', 'so', 'many', 'things', 'that', 'are', 'incorrect', 'with', 'your', 'comment', \"it's\", 'unbelievable', 'guns', \"don't\", 'kill', 'people', 'a', 'gun', \"doesn't\", 'get', 'up', 'off', 'a', 'table', 'and', 'then', 'shoot', 'someone', \"he's\", 'not', 'the', 'reason', 'soldiers', 'are', 'at', 'war', \"he's\", 'merely', 'showing', 'us', 'weapons', 'and', 'explaining', 'how', 'they', 'work', 'and', 'whether', 'he', 'likes', 'them', 'or', 'not', 'you', 'blame', 'him', 'for', 'violent', 'video', 'gameswhy', 'would', 'this', 'guy', 'mess', 'around', 'with', 'video', 'games', 'when', 'he', 'has', 'real', 'weapons', 'he', 'can', 'use', 'and', 'practice', 'with', 'i', \"can't\", 'say', 'much', 'more', 'coz', 'i', \"don't\", 'have', 'more', 'space', 'retard', 'this', 'is', 'all', 'we', 'need', 'an', 'australian', 'version', 'of', '1', 'direction', 'my', 'dick', 'was', 'bleeding', 'from', 'how', 'hard', 'i', 'was', 'masturbating', 'to', 'this']]\n"
          ]
        }
      ]
    },
    {
      "cell_type": "code",
      "source": [
        "w2vc_model = Word2Vec(h_d, size=50, workers=32, min_count=1, window=3)\n",
        "print(w2vc_model)"
      ],
      "metadata": {
        "colab": {
          "base_uri": "https://localhost:8080/"
        },
        "id": "1iUw-QM8QiJS",
        "outputId": "e8499190-a80b-43bb-cf7a-b01bcc5f75a1"
      },
      "execution_count": null,
      "outputs": [
        {
          "output_type": "stream",
          "name": "stdout",
          "text": [
            "Word2Vec(vocab=55451, size=50, alpha=0.025)\n"
          ]
        }
      ]
    },
    {
      "cell_type": "code",
      "source": [
        "y = toxic['Label'].values"
      ],
      "metadata": {
        "id": "zdGK-ojlQw0E"
      },
      "execution_count": null,
      "outputs": []
    },
    {
      "cell_type": "code",
      "source": [
        "# split the data into train test split\n",
        "\n",
        "X_train, X_test, y_train, y_test = train_test_split(np.array(text), y, test_size=0.2, stratify = y)"
      ],
      "metadata": {
        "id": "ZFMC9XBuQzv-"
      },
      "execution_count": null,
      "outputs": []
    },
    {
      "cell_type": "code",
      "source": [
        "# build the model\n",
        "\n",
        "model = Sequential()\n",
        "model.add(w2vc_model.wv.get_keras_embedding(True))\n",
        "model.add(Dropout(0.2))\n",
        "model.add(LSTM(50, return_sequences=True))\n",
        "model.add(GlobalMaxPooling1D())\n",
        "model.add(Dropout(0.2))\n",
        "model.add(Dense(1))\n",
        "model.add(Activation('sigmoid'))\n",
        "model.summary()\n"
      ],
      "metadata": {
        "colab": {
          "base_uri": "https://localhost:8080/"
        },
        "id": "JqhJ1A8aQ33y",
        "outputId": "7c46dfd2-c737-4087-e354-061a8b9a8139"
      },
      "execution_count": null,
      "outputs": [
        {
          "output_type": "stream",
          "name": "stdout",
          "text": [
            "Model: \"sequential\"\n",
            "_________________________________________________________________\n",
            " Layer (type)                Output Shape              Param #   \n",
            "=================================================================\n",
            " embedding (Embedding)       (None, None, 50)          2772550   \n",
            "                                                                 \n",
            " dropout (Dropout)           (None, None, 50)          0         \n",
            "                                                                 \n",
            " lstm (LSTM)                 (None, None, 50)          20200     \n",
            "                                                                 \n",
            " global_max_pooling1d (Globa  (None, 50)               0         \n",
            " lMaxPooling1D)                                                  \n",
            "                                                                 \n",
            " dropout_1 (Dropout)         (None, 50)                0         \n",
            "                                                                 \n",
            " dense (Dense)               (None, 1)                 51        \n",
            "                                                                 \n",
            " activation (Activation)     (None, 1)                 0         \n",
            "                                                                 \n",
            "=================================================================\n",
            "Total params: 2,792,801\n",
            "Trainable params: 2,792,801\n",
            "Non-trainable params: 0\n",
            "_________________________________________________________________\n"
          ]
        }
      ]
    },
    {
      "cell_type": "code",
      "source": [
        "# compile and train model\n",
        "\n",
        "model.compile(loss='binary_crossentropy', optimizer='adam', metrics=['accuracy'])\n",
        "history = model.fit(X_train, y_train, batch_size=32, epochs=10)"
      ],
      "metadata": {
        "colab": {
          "base_uri": "https://localhost:8080/"
        },
        "id": "9t6BpuUCQ7Xc",
        "outputId": "80a88b20-8006-4588-8268-9f81b728adf7"
      },
      "execution_count": null,
      "outputs": [
        {
          "output_type": "stream",
          "name": "stdout",
          "text": [
            "Epoch 1/10\n",
            "126/126 [==============================] - 150s 1s/step - loss: 0.5935 - accuracy: 0.7102\n",
            "Epoch 2/10\n",
            "126/126 [==============================] - 153s 1s/step - loss: 0.5333 - accuracy: 0.7652\n",
            "Epoch 3/10\n",
            "126/126 [==============================] - 146s 1s/step - loss: 0.4922 - accuracy: 0.7891\n",
            "Epoch 4/10\n",
            "126/126 [==============================] - 146s 1s/step - loss: 0.4294 - accuracy: 0.8264\n",
            "Epoch 5/10\n",
            "126/126 [==============================] - 146s 1s/step - loss: 0.3603 - accuracy: 0.8567\n",
            "Epoch 6/10\n",
            "126/126 [==============================] - 145s 1s/step - loss: 0.2392 - accuracy: 0.9085\n",
            "Epoch 7/10\n",
            "126/126 [==============================] - 146s 1s/step - loss: 0.1563 - accuracy: 0.9423\n",
            "Epoch 8/10\n",
            "126/126 [==============================] - 146s 1s/step - loss: 0.0951 - accuracy: 0.9639\n",
            "Epoch 9/10\n",
            "126/126 [==============================] - 146s 1s/step - loss: 0.0662 - accuracy: 0.9754\n",
            "Epoch 10/10\n",
            "126/126 [==============================] - 147s 1s/step - loss: 0.0505 - accuracy: 0.9823\n"
          ]
        }
      ]
    },
    {
      "cell_type": "code",
      "source": [
        "#untuk LSTM (10 epoch)\n",
        "from sklearn.metrics import precision_score, recall_score, f1_score,accuracy_score\n",
        "y_pred = [round(i[0]) for i in model.predict(X_test)]\n",
        "print(\"======= LSTM (10 Epoch)=======\")\n",
        "print('Precision: %.3f' % precision_score(y_test, y_pred))\n",
        "print('Recall: %.3f' % recall_score(y_test, y_pred))\n",
        "print('Accuracy: %.3f' % accuracy_score(y_test, y_pred))\n",
        "print('F1 Score: %.3f' % f1_score(y_test, y_pred))"
      ],
      "metadata": {
        "colab": {
          "base_uri": "https://localhost:8080/"
        },
        "id": "X2w8TwMmR1Mn",
        "outputId": "1af98b78-d1a3-42dd-de16-187d9ed158b1"
      },
      "execution_count": null,
      "outputs": [
        {
          "output_type": "stream",
          "name": "stdout",
          "text": [
            "======= LSTM (10 Epoch)=======\n",
            "Precision: 0.728\n",
            "Recall: 0.827\n",
            "Accuracy: 0.778\n",
            "F1 Score: 0.775\n"
          ]
        }
      ]
    },
    {
      "cell_type": "code",
      "source": [
        "# build the model\n",
        "\n",
        "model = Sequential()\n",
        "model.add(w2vc_model.wv.get_keras_embedding(True))\n",
        "model.add(Dropout(0.2))\n",
        "model.add(LSTM(50, return_sequences=True))\n",
        "model.add(GlobalMaxPooling1D())\n",
        "model.add(Dropout(0.2))\n",
        "model.add(Dense(1))\n",
        "model.add(Activation('sigmoid'))\n",
        "model.summary()\n"
      ],
      "metadata": {
        "colab": {
          "base_uri": "https://localhost:8080/"
        },
        "id": "bJLs9fLiRv5I",
        "outputId": "e075dfac-c1f2-4991-d423-792b3a78eb26"
      },
      "execution_count": null,
      "outputs": [
        {
          "output_type": "stream",
          "name": "stdout",
          "text": [
            "Model: \"sequential_1\"\n",
            "_________________________________________________________________\n",
            " Layer (type)                Output Shape              Param #   \n",
            "=================================================================\n",
            " embedding_1 (Embedding)     (None, None, 50)          2772550   \n",
            "                                                                 \n",
            " dropout_2 (Dropout)         (None, None, 50)          0         \n",
            "                                                                 \n",
            " lstm_1 (LSTM)               (None, None, 50)          20200     \n",
            "                                                                 \n",
            " global_max_pooling1d_1 (Glo  (None, 50)               0         \n",
            " balMaxPooling1D)                                                \n",
            "                                                                 \n",
            " dropout_3 (Dropout)         (None, 50)                0         \n",
            "                                                                 \n",
            " dense_1 (Dense)             (None, 1)                 51        \n",
            "                                                                 \n",
            " activation_1 (Activation)   (None, 1)                 0         \n",
            "                                                                 \n",
            "=================================================================\n",
            "Total params: 2,792,801\n",
            "Trainable params: 2,792,801\n",
            "Non-trainable params: 0\n",
            "_________________________________________________________________\n"
          ]
        }
      ]
    },
    {
      "cell_type": "code",
      "source": [
        "# compile and train model\n",
        "\n",
        "model.compile(loss='binary_crossentropy', optimizer='adam', metrics=['accuracy'])\n",
        "history = model.fit(X_train, y_train, batch_size=32, epochs=30)"
      ],
      "metadata": {
        "colab": {
          "base_uri": "https://localhost:8080/"
        },
        "id": "FYKvvFV-R1OG",
        "outputId": "65c3b842-32a8-4ebf-8a63-de0406401281"
      },
      "execution_count": null,
      "outputs": [
        {
          "output_type": "stream",
          "name": "stdout",
          "text": [
            "Epoch 1/30\n",
            "126/126 [==============================] - 150s 1s/step - loss: 0.5937 - accuracy: 0.7037\n",
            "Epoch 2/30\n",
            "126/126 [==============================] - 147s 1s/step - loss: 0.5462 - accuracy: 0.7520\n",
            "Epoch 3/30\n",
            "126/126 [==============================] - 148s 1s/step - loss: 0.5040 - accuracy: 0.7806\n",
            "Epoch 4/30\n",
            "126/126 [==============================] - 147s 1s/step - loss: 0.4371 - accuracy: 0.8184\n",
            "Epoch 5/30\n",
            "126/126 [==============================] - 148s 1s/step - loss: 0.3728 - accuracy: 0.8547\n",
            "Epoch 6/30\n",
            "126/126 [==============================] - 147s 1s/step - loss: 0.2442 - accuracy: 0.9075\n",
            "Epoch 7/30\n",
            "126/126 [==============================] - 148s 1s/step - loss: 0.1501 - accuracy: 0.9455\n",
            "Epoch 8/30\n",
            "126/126 [==============================] - 149s 1s/step - loss: 0.0912 - accuracy: 0.9672\n",
            "Epoch 9/30\n",
            "126/126 [==============================] - 147s 1s/step - loss: 0.0680 - accuracy: 0.9786\n",
            "Epoch 10/30\n",
            "126/126 [==============================] - 148s 1s/step - loss: 0.0425 - accuracy: 0.9871\n",
            "Epoch 11/30\n",
            "126/126 [==============================] - 148s 1s/step - loss: 0.0343 - accuracy: 0.9900\n",
            "Epoch 12/30\n",
            "126/126 [==============================] - 148s 1s/step - loss: 0.0276 - accuracy: 0.9910\n",
            "Epoch 13/30\n",
            "126/126 [==============================] - 148s 1s/step - loss: 0.0238 - accuracy: 0.9933\n",
            "Epoch 14/30\n",
            "126/126 [==============================] - 147s 1s/step - loss: 0.0204 - accuracy: 0.9938\n",
            "Epoch 15/30\n",
            "126/126 [==============================] - 147s 1s/step - loss: 0.0177 - accuracy: 0.9953\n",
            "Epoch 16/30\n",
            "126/126 [==============================] - 146s 1s/step - loss: 0.0137 - accuracy: 0.9963\n",
            "Epoch 17/30\n",
            "126/126 [==============================] - 147s 1s/step - loss: 0.0138 - accuracy: 0.9970\n",
            "Epoch 18/30\n",
            "126/126 [==============================] - 148s 1s/step - loss: 0.0127 - accuracy: 0.9968\n",
            "Epoch 19/30\n",
            "126/126 [==============================] - 148s 1s/step - loss: 0.0088 - accuracy: 0.9983\n",
            "Epoch 20/30\n",
            "126/126 [==============================] - 148s 1s/step - loss: 0.0092 - accuracy: 0.9973\n",
            "Epoch 21/30\n",
            "126/126 [==============================] - 148s 1s/step - loss: 0.0077 - accuracy: 0.9978\n",
            "Epoch 22/30\n",
            "126/126 [==============================] - 147s 1s/step - loss: 0.0072 - accuracy: 0.9980\n",
            "Epoch 23/30\n",
            "126/126 [==============================] - 148s 1s/step - loss: 0.0070 - accuracy: 0.9978\n",
            "Epoch 24/30\n",
            "126/126 [==============================] - 147s 1s/step - loss: 0.0063 - accuracy: 0.9980\n",
            "Epoch 25/30\n",
            "126/126 [==============================] - 148s 1s/step - loss: 0.0051 - accuracy: 0.9993\n",
            "Epoch 26/30\n",
            "126/126 [==============================] - 148s 1s/step - loss: 0.0055 - accuracy: 0.9978\n",
            "Epoch 27/30\n",
            "126/126 [==============================] - 148s 1s/step - loss: 0.0052 - accuracy: 0.9980\n",
            "Epoch 28/30\n",
            "126/126 [==============================] - 148s 1s/step - loss: 0.0052 - accuracy: 0.9980\n",
            "Epoch 29/30\n",
            "126/126 [==============================] - 149s 1s/step - loss: 0.0079 - accuracy: 0.9965\n",
            "Epoch 30/30\n",
            "126/126 [==============================] - 148s 1s/step - loss: 0.0056 - accuracy: 0.9983\n"
          ]
        }
      ]
    },
    {
      "cell_type": "code",
      "source": [
        "#untuk LSTM (30 epoch)\n",
        "from sklearn.metrics import precision_score, recall_score, f1_score,accuracy_score\n",
        "y_pred = [round(i[0]) for i in model.predict(X_test)]\n",
        "print(\"======= LSTM (10 Epoch)=======\")\n",
        "print('Precision: %.3f' % precision_score(y_test, y_pred))\n",
        "print('Recall: %.3f' % recall_score(y_test, y_pred))\n",
        "print('Accuracy: %.3f' % accuracy_score(y_test, y_pred))\n",
        "print('F1 Score: %.3f' % f1_score(y_test, y_pred))"
      ],
      "metadata": {
        "colab": {
          "base_uri": "https://localhost:8080/"
        },
        "id": "wJxuQZMeRWIP",
        "outputId": "c9ed11d6-8afd-4fe4-e592-b141a0aa2c4d"
      },
      "execution_count": null,
      "outputs": [
        {
          "output_type": "stream",
          "name": "stdout",
          "text": [
            "======= LSTM (10 Epoch)=======\n",
            "Precision: 0.858\n",
            "Recall: 0.680\n",
            "Accuracy: 0.801\n",
            "F1 Score: 0.759\n"
          ]
        }
      ]
    },
    {
      "cell_type": "code",
      "source": [
        "# build the model\n",
        "\n",
        "model = Sequential()\n",
        "model.add(w2vc_model.wv.get_keras_embedding(True))\n",
        "model.add(Dropout(0.2))\n",
        "model.add(LSTM(50, return_sequences=True))\n",
        "model.add(GlobalMaxPooling1D())\n",
        "model.add(Dropout(0.2))\n",
        "model.add(Dense(1))\n",
        "model.add(Activation('sigmoid'))\n",
        "model.summary()\n"
      ],
      "metadata": {
        "colab": {
          "base_uri": "https://localhost:8080/"
        },
        "id": "XX7iWFzvRUTX",
        "outputId": "ffd16d08-72e5-4b9e-dae6-f4848096e76d"
      },
      "execution_count": null,
      "outputs": [
        {
          "output_type": "stream",
          "name": "stdout",
          "text": [
            "Model: \"sequential_2\"\n",
            "_________________________________________________________________\n",
            " Layer (type)                Output Shape              Param #   \n",
            "=================================================================\n",
            " embedding_2 (Embedding)     (None, None, 50)          2772550   \n",
            "                                                                 \n",
            " dropout_4 (Dropout)         (None, None, 50)          0         \n",
            "                                                                 \n",
            " lstm_2 (LSTM)               (None, None, 50)          20200     \n",
            "                                                                 \n",
            " global_max_pooling1d_2 (Glo  (None, 50)               0         \n",
            " balMaxPooling1D)                                                \n",
            "                                                                 \n",
            " dropout_5 (Dropout)         (None, 50)                0         \n",
            "                                                                 \n",
            " dense_2 (Dense)             (None, 1)                 51        \n",
            "                                                                 \n",
            " activation_2 (Activation)   (None, 1)                 0         \n",
            "                                                                 \n",
            "=================================================================\n",
            "Total params: 2,792,801\n",
            "Trainable params: 2,792,801\n",
            "Non-trainable params: 0\n",
            "_________________________________________________________________\n"
          ]
        }
      ]
    },
    {
      "cell_type": "code",
      "source": [
        "# compile and train model\n",
        "\n",
        "model.compile(loss='binary_crossentropy', optimizer='adam', metrics=['accuracy'])\n",
        "history = model.fit(X_train, y_train, batch_size=32, epochs=50)"
      ],
      "metadata": {
        "colab": {
          "base_uri": "https://localhost:8080/"
        },
        "id": "4ppW-XmvsVe1",
        "outputId": "80574119-c6fa-4819-8675-e05d70396cd0"
      },
      "execution_count": null,
      "outputs": [
        {
          "output_type": "stream",
          "name": "stdout",
          "text": [
            "Epoch 1/50\n",
            "126/126 [==============================] - 152s 1s/step - loss: 0.5912 - accuracy: 0.7114\n",
            "Epoch 2/50\n",
            "126/126 [==============================] - 151s 1s/step - loss: 0.5388 - accuracy: 0.7600\n",
            "Epoch 3/50\n",
            "126/126 [==============================] - 151s 1s/step - loss: 0.4967 - accuracy: 0.7826\n",
            "Epoch 4/50\n",
            "126/126 [==============================] - 151s 1s/step - loss: 0.4265 - accuracy: 0.8291\n",
            "Epoch 5/50\n",
            "126/126 [==============================] - 151s 1s/step - loss: 0.3699 - accuracy: 0.8540\n",
            "Epoch 6/50\n",
            "126/126 [==============================] - 153s 1s/step - loss: 0.2321 - accuracy: 0.9142\n",
            "Epoch 7/50\n",
            "126/126 [==============================] - 151s 1s/step - loss: 0.1315 - accuracy: 0.9552\n",
            "Epoch 8/50\n",
            "126/126 [==============================] - 150s 1s/step - loss: 0.1087 - accuracy: 0.9632\n",
            "Epoch 9/50\n",
            "126/126 [==============================] - 149s 1s/step - loss: 0.0747 - accuracy: 0.9764\n",
            "Epoch 10/50\n",
            "126/126 [==============================] - 150s 1s/step - loss: 0.0476 - accuracy: 0.9866\n",
            "Epoch 11/50\n",
            "126/126 [==============================] - 150s 1s/step - loss: 0.0392 - accuracy: 0.9868\n",
            "Epoch 12/50\n",
            "126/126 [==============================] - 151s 1s/step - loss: 0.0318 - accuracy: 0.9896\n",
            "Epoch 13/50\n",
            "126/126 [==============================] - 151s 1s/step - loss: 0.0348 - accuracy: 0.9876\n",
            "Epoch 14/50\n",
            "126/126 [==============================] - 151s 1s/step - loss: 0.0276 - accuracy: 0.9923\n",
            "Epoch 15/50\n",
            "126/126 [==============================] - 152s 1s/step - loss: 0.0216 - accuracy: 0.9943\n",
            "Epoch 16/50\n",
            "126/126 [==============================] - 151s 1s/step - loss: 0.0184 - accuracy: 0.9945\n",
            "Epoch 17/50\n",
            "126/126 [==============================] - 151s 1s/step - loss: 0.0158 - accuracy: 0.9945\n",
            "Epoch 18/50\n",
            "126/126 [==============================] - 151s 1s/step - loss: 0.0148 - accuracy: 0.9960\n",
            "Epoch 19/50\n",
            "126/126 [==============================] - 153s 1s/step - loss: 0.0120 - accuracy: 0.9968\n",
            "Epoch 20/50\n",
            "126/126 [==============================] - 150s 1s/step - loss: 0.0119 - accuracy: 0.9958\n",
            "Epoch 21/50\n",
            "126/126 [==============================] - 151s 1s/step - loss: 0.0076 - accuracy: 0.9980\n",
            "Epoch 22/50\n",
            "126/126 [==============================] - 153s 1s/step - loss: 0.0081 - accuracy: 0.9983\n",
            "Epoch 23/50\n",
            "126/126 [==============================] - 151s 1s/step - loss: 0.0125 - accuracy: 0.9960\n",
            "Epoch 24/50\n",
            "126/126 [==============================] - 152s 1s/step - loss: 0.0197 - accuracy: 0.9940\n",
            "Epoch 25/50\n",
            "126/126 [==============================] - 152s 1s/step - loss: 0.0091 - accuracy: 0.9975\n",
            "Epoch 26/50\n",
            "126/126 [==============================] - 158s 1s/step - loss: 0.0074 - accuracy: 0.9985\n",
            "Epoch 27/50\n",
            "126/126 [==============================] - 154s 1s/step - loss: 0.0068 - accuracy: 0.9983\n",
            "Epoch 28/50\n",
            "126/126 [==============================] - 151s 1s/step - loss: 0.0055 - accuracy: 0.9990\n",
            "Epoch 29/50\n",
            "126/126 [==============================] - 153s 1s/step - loss: 0.0053 - accuracy: 0.9985\n",
            "Epoch 30/50\n",
            "126/126 [==============================] - 152s 1s/step - loss: 0.0035 - accuracy: 0.9993\n",
            "Epoch 31/50\n",
            "126/126 [==============================] - 151s 1s/step - loss: 0.0046 - accuracy: 0.9990\n",
            "Epoch 32/50\n",
            "126/126 [==============================] - 154s 1s/step - loss: 0.0040 - accuracy: 0.9993\n",
            "Epoch 33/50\n",
            "126/126 [==============================] - 152s 1s/step - loss: 0.0059 - accuracy: 0.9978\n",
            "Epoch 34/50\n",
            "126/126 [==============================] - 152s 1s/step - loss: 0.0036 - accuracy: 0.9993\n",
            "Epoch 35/50\n",
            "126/126 [==============================] - 154s 1s/step - loss: 0.0035 - accuracy: 0.9990\n",
            "Epoch 36/50\n",
            "126/126 [==============================] - 153s 1s/step - loss: 0.0033 - accuracy: 0.9988\n",
            "Epoch 37/50\n",
            "126/126 [==============================] - 152s 1s/step - loss: 0.0035 - accuracy: 0.9990\n",
            "Epoch 38/50\n",
            "126/126 [==============================] - 152s 1s/step - loss: 0.0028 - accuracy: 0.9993\n",
            "Epoch 39/50\n",
            "126/126 [==============================] - 152s 1s/step - loss: 0.0024 - accuracy: 0.9993\n",
            "Epoch 40/50\n",
            "126/126 [==============================] - 153s 1s/step - loss: 0.0023 - accuracy: 0.9993\n",
            "Epoch 41/50\n",
            "126/126 [==============================] - 153s 1s/step - loss: 0.0038 - accuracy: 0.9983\n",
            "Epoch 42/50\n",
            "126/126 [==============================] - 154s 1s/step - loss: 0.0021 - accuracy: 0.9998\n",
            "Epoch 43/50\n",
            "126/126 [==============================] - 154s 1s/step - loss: 0.0024 - accuracy: 0.9990\n",
            "Epoch 44/50\n",
            "126/126 [==============================] - 153s 1s/step - loss: 0.0025 - accuracy: 0.9988\n",
            "Epoch 45/50\n",
            "126/126 [==============================] - 155s 1s/step - loss: 0.0023 - accuracy: 0.9993\n",
            "Epoch 46/50\n",
            "126/126 [==============================] - 155s 1s/step - loss: 0.0021 - accuracy: 0.9990\n",
            "Epoch 47/50\n",
            "126/126 [==============================] - 153s 1s/step - loss: 0.0033 - accuracy: 0.9985\n",
            "Epoch 48/50\n",
            "126/126 [==============================] - 152s 1s/step - loss: 0.0026 - accuracy: 0.9988\n",
            "Epoch 49/50\n",
            "126/126 [==============================] - 151s 1s/step - loss: 0.0022 - accuracy: 0.9990\n",
            "Epoch 50/50\n",
            "126/126 [==============================] - 153s 1s/step - loss: 0.0026 - accuracy: 0.9990\n"
          ]
        }
      ]
    },
    {
      "cell_type": "code",
      "source": [
        "#untuk LSTM (50 epoch)\n",
        "from sklearn.metrics import precision_score, recall_score, f1_score,accuracy_score\n",
        "y_pred = [round(i[0]) for i in model.predict(X_test)]\n",
        "print(\"======= LSTM (10 Epoch)=======\")\n",
        "print('Precision: %.3f' % precision_score(y_test, y_pred))\n",
        "print('Recall: %.3f' % recall_score(y_test, y_pred))\n",
        "print('Accuracy: %.3f' % accuracy_score(y_test, y_pred))\n",
        "print('F1 Score: %.3f' % f1_score(y_test, y_pred))"
      ],
      "metadata": {
        "colab": {
          "base_uri": "https://localhost:8080/"
        },
        "id": "zE-QxT7XJwkI",
        "outputId": "f8b67956-6a93-4ce5-f130-3e94e7fd5c8f"
      },
      "execution_count": null,
      "outputs": [
        {
          "output_type": "stream",
          "name": "stdout",
          "text": [
            "======= LSTM (10 Epoch)=======\n",
            "Precision: 0.816\n",
            "Recall: 0.745\n",
            "Accuracy: 0.805\n",
            "F1 Score: 0.779\n"
          ]
        }
      ]
    },
    {
      "cell_type": "code",
      "source": [
        "test = ['I love you','Hate you']\n",
        "token_text = pad_sequences(token.texts_to_sequences(test))\n",
        "preds = [round(i[0]) for i in model.predict(token_text)]\n",
        "for (text, pred) in zip(test, preds):\n",
        "    label = 'toxic' if pred == 1.0 else 'Not toxic'\n",
        "    print(\"{} - {}\".format(text, label))"
      ],
      "metadata": {
        "colab": {
          "base_uri": "https://localhost:8080/"
        },
        "id": "b5iF5QRwWR1y",
        "outputId": "9c87d5b5-74c4-4046-9feb-956aa9ae2d7c"
      },
      "execution_count": null,
      "outputs": [
        {
          "output_type": "stream",
          "name": "stdout",
          "text": [
            "I love you - Not toxic\n",
            "Hate you - toxic\n"
          ]
        }
      ]
    },
    {
      "cell_type": "code",
      "source": [
        "# naives bayes\n",
        "from sklearn.naive_bayes import GaussianNB\n",
        "classifier = GaussianNB()\n",
        "classifier.fit(X_train, y_train)\n",
        "y_pred  =  classifier.predict(X_test)\n"
      ],
      "metadata": {
        "id": "FB-9jQobgfV3"
      },
      "execution_count": null,
      "outputs": []
    },
    {
      "cell_type": "code",
      "source": [
        "print(\"======= Naives Bayes=======\")\n",
        "print('Precision: %.3f' % precision_score(y_test, y_pred))\n",
        "print('Recall: %.3f' % recall_score(y_test, y_pred))\n",
        "print('Accuracy: %.3f' % accuracy_score(y_test, y_pred))\n",
        "print('F1 Score: %.3f' % f1_score(y_test, y_pred))\n"
      ],
      "metadata": {
        "colab": {
          "base_uri": "https://localhost:8080/"
        },
        "id": "YCSUgf3xhQ3X",
        "outputId": "b7fbe1e8-7893-4e62-824c-11cd09f015dc"
      },
      "execution_count": null,
      "outputs": [
        {
          "output_type": "stream",
          "name": "stdout",
          "text": [
            "======= Naives Bayes=======\n",
            "Precision: 0.496\n",
            "Recall: 0.942\n",
            "Accuracy: 0.532\n",
            "F1 Score: 0.650\n"
          ]
        }
      ]
    },
    {
      "cell_type": "code",
      "source": [
        "#SVM\n",
        "from sklearn import svm\n",
        "svm = svm.SVC(kernel='linear')\n",
        "svm.fit(X_train, y_train) \n",
        "y_pred = svm.predict(X_test)"
      ],
      "metadata": {
        "id": "R7rvpNJPhXsK"
      },
      "execution_count": null,
      "outputs": []
    },
    {
      "cell_type": "code",
      "source": [
        "print(\"======= SVM=======\")\n",
        "print('Precision: %.3f' % precision_score(y_test, y_pred))\n",
        "print('Recall: %.3f' % recall_score(y_test, y_pred))\n",
        "print('Accuracy: %.3f' % accuracy_score(y_test, y_pred))\n",
        "print('F1 Score: %.3f' % f1_score(y_test, y_pred))"
      ],
      "metadata": {
        "id": "gKDv-xahhwWE"
      },
      "execution_count": null,
      "outputs": []
    },
    {
      "cell_type": "code",
      "source": [
        "# decision tree\n",
        "\n",
        "from sklearn.tree import DecisionTreeClassifier\n",
        "dsc = DecisionTreeClassifier()\n",
        "dsc = dsc.fit(X_train,y_train)\n",
        "y_pred = dsc.predict(X_test)"
      ],
      "metadata": {
        "id": "jFmMxeC8hxo3"
      },
      "execution_count": null,
      "outputs": []
    },
    {
      "cell_type": "code",
      "source": [
        "print(\"======= Decision Tree=======\")\n",
        "print('Precision: %.3f' % precision_score(y_test, y_pred))\n",
        "print('Recall: %.3f' % recall_score(y_test, y_pred))\n",
        "print('Accuracy: %.3f' % accuracy_score(y_test, y_pred))\n",
        "print('F1 Score: %.3f' % f1_score(y_test, y_pred))"
      ],
      "metadata": {
        "id": "9Fe6Ftqojiyh",
        "colab": {
          "base_uri": "https://localhost:8080/"
        },
        "outputId": "db8c6739-5e3c-40ee-ee61-c11d8cee6e56"
      },
      "execution_count": null,
      "outputs": [
        {
          "output_type": "stream",
          "name": "stdout",
          "text": [
            "======= Decision Tree=======\n",
            "Precision: 0.634\n",
            "Recall: 0.648\n",
            "Accuracy: 0.666\n",
            "F1 Score: 0.641\n"
          ]
        }
      ]
    },
    {
      "cell_type": "code",
      "source": [
        "#KNN\n",
        "from sklearn.neighbors import KNeighborsClassifier\n",
        "parameters = {'n_neighbors':[3, 5, 7,9]}\n",
        "knn = KNeighborsClassifier()\n",
        "classifier = GridSearchCV(knn, parameters)\n",
        "classifier.fit(X_train, y_train)\n",
        "y_pred = classifier.predict(X_test)\n"
      ],
      "metadata": {
        "id": "R3PKCUubiaMS"
      },
      "execution_count": null,
      "outputs": []
    },
    {
      "cell_type": "code",
      "source": [
        "print('The parameters combination that would give best accuracy is : ')\n",
        "print(classifier.best_params_)"
      ],
      "metadata": {
        "colab": {
          "base_uri": "https://localhost:8080/"
        },
        "id": "0jEgkVwULxIb",
        "outputId": "a2c911b0-47a1-47a2-a671-6e20e11c8add"
      },
      "execution_count": null,
      "outputs": [
        {
          "output_type": "stream",
          "name": "stdout",
          "text": [
            "The parameters combination that would give best accuracy is : \n",
            "{'n_neighbors': 7}\n"
          ]
        }
      ]
    },
    {
      "cell_type": "code",
      "source": [
        "print(\"======= KNN=======\")\n",
        "print('Precision: %.3f' % precision_score(y_test, y_pred))\n",
        "print('Recall: %.3f' % recall_score(y_test, y_pred))\n",
        "print('Accuracy: %.3f' % accuracy_score(y_test, y_pred))\n",
        "print('F1 Score: %.3f' % f1_score(y_test, y_pred))"
      ],
      "metadata": {
        "id": "nvl8muhdjKtd",
        "colab": {
          "base_uri": "https://localhost:8080/"
        },
        "outputId": "5d56dd96-9f28-4f03-cdc3-83497d905575"
      },
      "execution_count": null,
      "outputs": [
        {
          "output_type": "stream",
          "name": "stdout",
          "text": [
            "======= KNN=======\n",
            "Precision: 0.561\n",
            "Recall: 0.870\n",
            "Accuracy: 0.626\n",
            "F1 Score: 0.682\n"
          ]
        }
      ]
    },
    {
      "cell_type": "code",
      "source": [
        "from sklearn.neural_network import MLPClassifier\n",
        "parameters = {'solver': ['lbfgs', 'adam', 'sgd'], 'max_iter': [10,20,30 ]}\n",
        "mlp = MLPClassifier()\n",
        "classifier = GridSearchCV(mlp, parameters)\n",
        "classifier.fit(X_train, y_train)\n",
        "y_pred = classifier.predict(X_test)\n"
      ],
      "metadata": {
        "id": "GufbDmlTuVpW",
        "colab": {
          "base_uri": "https://localhost:8080/"
        },
        "outputId": "7e81e98d-4f62-471f-e0cd-1af825cba6dc"
      },
      "execution_count": null,
      "outputs": [
        {
          "output_type": "stream",
          "name": "stderr",
          "text": [
            "/usr/local/lib/python3.7/dist-packages/sklearn/neural_network/_multilayer_perceptron.py:549: ConvergenceWarning: lbfgs failed to converge (status=1):\n",
            "STOP: TOTAL NO. of ITERATIONS REACHED LIMIT.\n",
            "\n",
            "Increase the number of iterations (max_iter) or scale the data as shown in:\n",
            "    https://scikit-learn.org/stable/modules/preprocessing.html\n",
            "  self.n_iter_ = _check_optimize_result(\"lbfgs\", opt_res, self.max_iter)\n",
            "/usr/local/lib/python3.7/dist-packages/sklearn/neural_network/_multilayer_perceptron.py:549: ConvergenceWarning: lbfgs failed to converge (status=1):\n",
            "STOP: TOTAL NO. of ITERATIONS REACHED LIMIT.\n",
            "\n",
            "Increase the number of iterations (max_iter) or scale the data as shown in:\n",
            "    https://scikit-learn.org/stable/modules/preprocessing.html\n",
            "  self.n_iter_ = _check_optimize_result(\"lbfgs\", opt_res, self.max_iter)\n",
            "/usr/local/lib/python3.7/dist-packages/sklearn/neural_network/_multilayer_perceptron.py:549: ConvergenceWarning: lbfgs failed to converge (status=1):\n",
            "STOP: TOTAL NO. of ITERATIONS REACHED LIMIT.\n",
            "\n",
            "Increase the number of iterations (max_iter) or scale the data as shown in:\n",
            "    https://scikit-learn.org/stable/modules/preprocessing.html\n",
            "  self.n_iter_ = _check_optimize_result(\"lbfgs\", opt_res, self.max_iter)\n",
            "/usr/local/lib/python3.7/dist-packages/sklearn/neural_network/_multilayer_perceptron.py:549: ConvergenceWarning: lbfgs failed to converge (status=1):\n",
            "STOP: TOTAL NO. of ITERATIONS REACHED LIMIT.\n",
            "\n",
            "Increase the number of iterations (max_iter) or scale the data as shown in:\n",
            "    https://scikit-learn.org/stable/modules/preprocessing.html\n",
            "  self.n_iter_ = _check_optimize_result(\"lbfgs\", opt_res, self.max_iter)\n",
            "/usr/local/lib/python3.7/dist-packages/sklearn/neural_network/_multilayer_perceptron.py:696: ConvergenceWarning: Stochastic Optimizer: Maximum iterations (10) reached and the optimization hasn't converged yet.\n",
            "  ConvergenceWarning,\n",
            "/usr/local/lib/python3.7/dist-packages/sklearn/neural_network/_multilayer_perceptron.py:696: ConvergenceWarning: Stochastic Optimizer: Maximum iterations (10) reached and the optimization hasn't converged yet.\n",
            "  ConvergenceWarning,\n",
            "/usr/local/lib/python3.7/dist-packages/sklearn/neural_network/_multilayer_perceptron.py:696: ConvergenceWarning: Stochastic Optimizer: Maximum iterations (10) reached and the optimization hasn't converged yet.\n",
            "  ConvergenceWarning,\n",
            "/usr/local/lib/python3.7/dist-packages/sklearn/neural_network/_multilayer_perceptron.py:696: ConvergenceWarning: Stochastic Optimizer: Maximum iterations (10) reached and the optimization hasn't converged yet.\n",
            "  ConvergenceWarning,\n",
            "/usr/local/lib/python3.7/dist-packages/sklearn/neural_network/_multilayer_perceptron.py:696: ConvergenceWarning: Stochastic Optimizer: Maximum iterations (10) reached and the optimization hasn't converged yet.\n",
            "  ConvergenceWarning,\n",
            "/usr/local/lib/python3.7/dist-packages/sklearn/neural_network/_multilayer_perceptron.py:696: ConvergenceWarning: Stochastic Optimizer: Maximum iterations (10) reached and the optimization hasn't converged yet.\n",
            "  ConvergenceWarning,\n",
            "/usr/local/lib/python3.7/dist-packages/sklearn/neural_network/_multilayer_perceptron.py:696: ConvergenceWarning: Stochastic Optimizer: Maximum iterations (10) reached and the optimization hasn't converged yet.\n",
            "  ConvergenceWarning,\n",
            "/usr/local/lib/python3.7/dist-packages/sklearn/neural_network/_multilayer_perceptron.py:696: ConvergenceWarning: Stochastic Optimizer: Maximum iterations (10) reached and the optimization hasn't converged yet.\n",
            "  ConvergenceWarning,\n",
            "/usr/local/lib/python3.7/dist-packages/sklearn/neural_network/_multilayer_perceptron.py:696: ConvergenceWarning: Stochastic Optimizer: Maximum iterations (10) reached and the optimization hasn't converged yet.\n",
            "  ConvergenceWarning,\n",
            "/usr/local/lib/python3.7/dist-packages/sklearn/neural_network/_multilayer_perceptron.py:696: ConvergenceWarning: Stochastic Optimizer: Maximum iterations (10) reached and the optimization hasn't converged yet.\n",
            "  ConvergenceWarning,\n",
            "/usr/local/lib/python3.7/dist-packages/sklearn/neural_network/_multilayer_perceptron.py:549: ConvergenceWarning: lbfgs failed to converge (status=1):\n",
            "STOP: TOTAL NO. of ITERATIONS REACHED LIMIT.\n",
            "\n",
            "Increase the number of iterations (max_iter) or scale the data as shown in:\n",
            "    https://scikit-learn.org/stable/modules/preprocessing.html\n",
            "  self.n_iter_ = _check_optimize_result(\"lbfgs\", opt_res, self.max_iter)\n",
            "/usr/local/lib/python3.7/dist-packages/sklearn/neural_network/_multilayer_perceptron.py:549: ConvergenceWarning: lbfgs failed to converge (status=1):\n",
            "STOP: TOTAL NO. of ITERATIONS REACHED LIMIT.\n",
            "\n",
            "Increase the number of iterations (max_iter) or scale the data as shown in:\n",
            "    https://scikit-learn.org/stable/modules/preprocessing.html\n",
            "  self.n_iter_ = _check_optimize_result(\"lbfgs\", opt_res, self.max_iter)\n",
            "/usr/local/lib/python3.7/dist-packages/sklearn/neural_network/_multilayer_perceptron.py:549: ConvergenceWarning: lbfgs failed to converge (status=1):\n",
            "STOP: TOTAL NO. of ITERATIONS REACHED LIMIT.\n",
            "\n",
            "Increase the number of iterations (max_iter) or scale the data as shown in:\n",
            "    https://scikit-learn.org/stable/modules/preprocessing.html\n",
            "  self.n_iter_ = _check_optimize_result(\"lbfgs\", opt_res, self.max_iter)\n",
            "/usr/local/lib/python3.7/dist-packages/sklearn/neural_network/_multilayer_perceptron.py:549: ConvergenceWarning: lbfgs failed to converge (status=1):\n",
            "STOP: TOTAL NO. of ITERATIONS REACHED LIMIT.\n",
            "\n",
            "Increase the number of iterations (max_iter) or scale the data as shown in:\n",
            "    https://scikit-learn.org/stable/modules/preprocessing.html\n",
            "  self.n_iter_ = _check_optimize_result(\"lbfgs\", opt_res, self.max_iter)\n",
            "/usr/local/lib/python3.7/dist-packages/sklearn/neural_network/_multilayer_perceptron.py:549: ConvergenceWarning: lbfgs failed to converge (status=1):\n",
            "STOP: TOTAL NO. of ITERATIONS REACHED LIMIT.\n",
            "\n",
            "Increase the number of iterations (max_iter) or scale the data as shown in:\n",
            "    https://scikit-learn.org/stable/modules/preprocessing.html\n",
            "  self.n_iter_ = _check_optimize_result(\"lbfgs\", opt_res, self.max_iter)\n",
            "/usr/local/lib/python3.7/dist-packages/sklearn/neural_network/_multilayer_perceptron.py:696: ConvergenceWarning: Stochastic Optimizer: Maximum iterations (20) reached and the optimization hasn't converged yet.\n",
            "  ConvergenceWarning,\n",
            "/usr/local/lib/python3.7/dist-packages/sklearn/neural_network/_multilayer_perceptron.py:696: ConvergenceWarning: Stochastic Optimizer: Maximum iterations (20) reached and the optimization hasn't converged yet.\n",
            "  ConvergenceWarning,\n",
            "/usr/local/lib/python3.7/dist-packages/sklearn/neural_network/_multilayer_perceptron.py:696: ConvergenceWarning: Stochastic Optimizer: Maximum iterations (20) reached and the optimization hasn't converged yet.\n",
            "  ConvergenceWarning,\n",
            "/usr/local/lib/python3.7/dist-packages/sklearn/neural_network/_multilayer_perceptron.py:696: ConvergenceWarning: Stochastic Optimizer: Maximum iterations (20) reached and the optimization hasn't converged yet.\n",
            "  ConvergenceWarning,\n",
            "/usr/local/lib/python3.7/dist-packages/sklearn/neural_network/_multilayer_perceptron.py:696: ConvergenceWarning: Stochastic Optimizer: Maximum iterations (20) reached and the optimization hasn't converged yet.\n",
            "  ConvergenceWarning,\n",
            "/usr/local/lib/python3.7/dist-packages/sklearn/neural_network/_multilayer_perceptron.py:696: ConvergenceWarning: Stochastic Optimizer: Maximum iterations (20) reached and the optimization hasn't converged yet.\n",
            "  ConvergenceWarning,\n",
            "/usr/local/lib/python3.7/dist-packages/sklearn/neural_network/_multilayer_perceptron.py:696: ConvergenceWarning: Stochastic Optimizer: Maximum iterations (20) reached and the optimization hasn't converged yet.\n",
            "  ConvergenceWarning,\n",
            "/usr/local/lib/python3.7/dist-packages/sklearn/neural_network/_multilayer_perceptron.py:696: ConvergenceWarning: Stochastic Optimizer: Maximum iterations (20) reached and the optimization hasn't converged yet.\n",
            "  ConvergenceWarning,\n",
            "/usr/local/lib/python3.7/dist-packages/sklearn/neural_network/_multilayer_perceptron.py:696: ConvergenceWarning: Stochastic Optimizer: Maximum iterations (20) reached and the optimization hasn't converged yet.\n",
            "  ConvergenceWarning,\n",
            "/usr/local/lib/python3.7/dist-packages/sklearn/neural_network/_multilayer_perceptron.py:549: ConvergenceWarning: lbfgs failed to converge (status=1):\n",
            "STOP: TOTAL NO. of ITERATIONS REACHED LIMIT.\n",
            "\n",
            "Increase the number of iterations (max_iter) or scale the data as shown in:\n",
            "    https://scikit-learn.org/stable/modules/preprocessing.html\n",
            "  self.n_iter_ = _check_optimize_result(\"lbfgs\", opt_res, self.max_iter)\n",
            "/usr/local/lib/python3.7/dist-packages/sklearn/neural_network/_multilayer_perceptron.py:549: ConvergenceWarning: lbfgs failed to converge (status=1):\n",
            "STOP: TOTAL NO. of ITERATIONS REACHED LIMIT.\n",
            "\n",
            "Increase the number of iterations (max_iter) or scale the data as shown in:\n",
            "    https://scikit-learn.org/stable/modules/preprocessing.html\n",
            "  self.n_iter_ = _check_optimize_result(\"lbfgs\", opt_res, self.max_iter)\n",
            "/usr/local/lib/python3.7/dist-packages/sklearn/neural_network/_multilayer_perceptron.py:549: ConvergenceWarning: lbfgs failed to converge (status=1):\n",
            "STOP: TOTAL NO. of ITERATIONS REACHED LIMIT.\n",
            "\n",
            "Increase the number of iterations (max_iter) or scale the data as shown in:\n",
            "    https://scikit-learn.org/stable/modules/preprocessing.html\n",
            "  self.n_iter_ = _check_optimize_result(\"lbfgs\", opt_res, self.max_iter)\n",
            "/usr/local/lib/python3.7/dist-packages/sklearn/neural_network/_multilayer_perceptron.py:549: ConvergenceWarning: lbfgs failed to converge (status=1):\n",
            "STOP: TOTAL NO. of ITERATIONS REACHED LIMIT.\n",
            "\n",
            "Increase the number of iterations (max_iter) or scale the data as shown in:\n",
            "    https://scikit-learn.org/stable/modules/preprocessing.html\n",
            "  self.n_iter_ = _check_optimize_result(\"lbfgs\", opt_res, self.max_iter)\n",
            "/usr/local/lib/python3.7/dist-packages/sklearn/neural_network/_multilayer_perceptron.py:549: ConvergenceWarning: lbfgs failed to converge (status=1):\n",
            "STOP: TOTAL NO. of ITERATIONS REACHED LIMIT.\n",
            "\n",
            "Increase the number of iterations (max_iter) or scale the data as shown in:\n",
            "    https://scikit-learn.org/stable/modules/preprocessing.html\n",
            "  self.n_iter_ = _check_optimize_result(\"lbfgs\", opt_res, self.max_iter)\n",
            "/usr/local/lib/python3.7/dist-packages/sklearn/neural_network/_multilayer_perceptron.py:696: ConvergenceWarning: Stochastic Optimizer: Maximum iterations (30) reached and the optimization hasn't converged yet.\n",
            "  ConvergenceWarning,\n",
            "/usr/local/lib/python3.7/dist-packages/sklearn/neural_network/_multilayer_perceptron.py:696: ConvergenceWarning: Stochastic Optimizer: Maximum iterations (30) reached and the optimization hasn't converged yet.\n",
            "  ConvergenceWarning,\n",
            "/usr/local/lib/python3.7/dist-packages/sklearn/neural_network/_multilayer_perceptron.py:696: ConvergenceWarning: Stochastic Optimizer: Maximum iterations (30) reached and the optimization hasn't converged yet.\n",
            "  ConvergenceWarning,\n",
            "/usr/local/lib/python3.7/dist-packages/sklearn/neural_network/_multilayer_perceptron.py:696: ConvergenceWarning: Stochastic Optimizer: Maximum iterations (30) reached and the optimization hasn't converged yet.\n",
            "  ConvergenceWarning,\n",
            "/usr/local/lib/python3.7/dist-packages/sklearn/neural_network/_multilayer_perceptron.py:696: ConvergenceWarning: Stochastic Optimizer: Maximum iterations (30) reached and the optimization hasn't converged yet.\n",
            "  ConvergenceWarning,\n",
            "/usr/local/lib/python3.7/dist-packages/sklearn/neural_network/_multilayer_perceptron.py:696: ConvergenceWarning: Stochastic Optimizer: Maximum iterations (30) reached and the optimization hasn't converged yet.\n",
            "  ConvergenceWarning,\n",
            "/usr/local/lib/python3.7/dist-packages/sklearn/neural_network/_multilayer_perceptron.py:696: ConvergenceWarning: Stochastic Optimizer: Maximum iterations (30) reached and the optimization hasn't converged yet.\n",
            "  ConvergenceWarning,\n",
            "/usr/local/lib/python3.7/dist-packages/sklearn/neural_network/_multilayer_perceptron.py:696: ConvergenceWarning: Stochastic Optimizer: Maximum iterations (30) reached and the optimization hasn't converged yet.\n",
            "  ConvergenceWarning,\n",
            "/usr/local/lib/python3.7/dist-packages/sklearn/neural_network/_multilayer_perceptron.py:696: ConvergenceWarning: Stochastic Optimizer: Maximum iterations (20) reached and the optimization hasn't converged yet.\n",
            "  ConvergenceWarning,\n"
          ]
        }
      ]
    },
    {
      "cell_type": "code",
      "source": [
        "print('The parameters combination that would give best accuracy is : ')\n",
        "print(classifier.best_params_)"
      ],
      "metadata": {
        "colab": {
          "base_uri": "https://localhost:8080/"
        },
        "id": "6KJgNza3MR-W",
        "outputId": "8b1ac674-80b5-49d4-a40f-df33434d6154"
      },
      "execution_count": null,
      "outputs": [
        {
          "output_type": "stream",
          "name": "stdout",
          "text": [
            "The parameters combination that would give best accuracy is : \n",
            "{'max_iter': 20, 'solver': 'adam'}\n"
          ]
        }
      ]
    },
    {
      "cell_type": "code",
      "source": [
        "print(\"======= MLP=======\")\n",
        "print('Precision: %.3f' % precision_score(y_test, y_pred))\n",
        "print('Recall: %.3f' % recall_score(y_test, y_pred))\n",
        "print('Accuracy: %.3f' % accuracy_score(y_test, y_pred))\n",
        "print('F1 Score: %.3f' % f1_score(y_test, y_pred))"
      ],
      "metadata": {
        "colab": {
          "base_uri": "https://localhost:8080/"
        },
        "id": "zG7GUN3hvSYV",
        "outputId": "9a587ab1-206e-420e-ad73-287794daa150"
      },
      "execution_count": null,
      "outputs": [
        {
          "output_type": "stream",
          "name": "stdout",
          "text": [
            "======= MLP=======\n",
            "Precision: 0.587\n",
            "Recall: 0.577\n",
            "Accuracy: 0.618\n",
            "F1 Score: 0.582\n"
          ]
        }
      ]
    }
  ]
}